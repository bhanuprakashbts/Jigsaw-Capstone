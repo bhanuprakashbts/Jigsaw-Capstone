{
 "cells": [
  {
   "cell_type": "code",
   "execution_count": 1,
   "metadata": {},
   "outputs": [
    {
     "name": "stdout",
     "output_type": "stream",
     "text": [
      "Current working directory is: E:\\mypractice\\Python\\Jigsaw\\capstone\n"
     ]
    }
   ],
   "source": [
    "# import os module \n",
    "import os \n",
    "  \n",
    "# change the current working directory  \n",
    "# to specified path \n",
    "os.chdir('E:\\\\mypractice\\\\Python\\\\Jigsaw\\\\capstone') \n",
    "  \n",
    "# varify the path using getcwd() \n",
    "cwd = os.getcwd() \n",
    "  \n",
    "# print the current directory \n",
    "print(\"Current working directory is:\", cwd) "
   ]
  },
  {
   "cell_type": "code",
   "execution_count": 2,
   "metadata": {
    "collapsed": true
   },
   "outputs": [],
   "source": [
    "import numpy as np\n",
    "import pandas as pd"
   ]
  },
  {
   "cell_type": "code",
   "execution_count": 3,
   "metadata": {
    "collapsed": true
   },
   "outputs": [],
   "source": [
    "data = pd.read_csv(\"sampletelecomfinal (1).csv\",header = 0)"
   ]
  },
  {
   "cell_type": "code",
   "execution_count": 4,
   "metadata": {},
   "outputs": [
    {
     "data": {
      "text/plain": [
       "(13259, 79)"
      ]
     },
     "execution_count": 4,
     "metadata": {},
     "output_type": "execute_result"
    }
   ],
   "source": [
    "data.shape"
   ]
  },
  {
   "cell_type": "code",
   "execution_count": 5,
   "metadata": {
    "collapsed": true
   },
   "outputs": [],
   "source": [
    "data_quality = pd.DataFrame(data.dtypes)\n",
    "data_quality[\"variable\"] = data_quality.index"
   ]
  },
  {
   "cell_type": "code",
   "execution_count": 6,
   "metadata": {},
   "outputs": [
    {
     "data": {
      "text/html": [
       "<div>\n",
       "<style>\n",
       "    .dataframe thead tr:only-child th {\n",
       "        text-align: right;\n",
       "    }\n",
       "\n",
       "    .dataframe thead th {\n",
       "        text-align: left;\n",
       "    }\n",
       "\n",
       "    .dataframe tbody tr th {\n",
       "        vertical-align: top;\n",
       "    }\n",
       "</style>\n",
       "<table border=\"1\" class=\"dataframe\">\n",
       "  <thead>\n",
       "    <tr style=\"text-align: right;\">\n",
       "      <th></th>\n",
       "      <th>0</th>\n",
       "      <th>variable</th>\n",
       "    </tr>\n",
       "  </thead>\n",
       "  <tbody>\n",
       "    <tr>\n",
       "      <th>mou_Mean</th>\n",
       "      <td>float64</td>\n",
       "      <td>mou_Mean</td>\n",
       "    </tr>\n",
       "    <tr>\n",
       "      <th>totmrc_Mean</th>\n",
       "      <td>float64</td>\n",
       "      <td>totmrc_Mean</td>\n",
       "    </tr>\n",
       "    <tr>\n",
       "      <th>rev_Range</th>\n",
       "      <td>float64</td>\n",
       "      <td>rev_Range</td>\n",
       "    </tr>\n",
       "    <tr>\n",
       "      <th>mou_Range</th>\n",
       "      <td>float64</td>\n",
       "      <td>mou_Range</td>\n",
       "    </tr>\n",
       "    <tr>\n",
       "      <th>change_mou</th>\n",
       "      <td>float64</td>\n",
       "      <td>change_mou</td>\n",
       "    </tr>\n",
       "  </tbody>\n",
       "</table>\n",
       "</div>"
      ],
      "text/plain": [
       "                   0     variable\n",
       "mou_Mean     float64     mou_Mean\n",
       "totmrc_Mean  float64  totmrc_Mean\n",
       "rev_Range    float64    rev_Range\n",
       "mou_Range    float64    mou_Range\n",
       "change_mou   float64   change_mou"
      ]
     },
     "execution_count": 6,
     "metadata": {},
     "output_type": "execute_result"
    }
   ],
   "source": [
    "data_quality.head()"
   ]
  },
  {
   "cell_type": "code",
   "execution_count": 7,
   "metadata": {},
   "outputs": [
    {
     "data": {
      "text/plain": [
       "26"
      ]
     },
     "execution_count": 7,
     "metadata": {},
     "output_type": "execute_result"
    }
   ],
   "source": [
    "data[data_quality['variable'][0]].isnull().sum()"
   ]
  },
  {
   "cell_type": "code",
   "execution_count": 8,
   "metadata": {
    "collapsed": true
   },
   "outputs": [],
   "source": [
    "missing = pd.DataFrame(data.isnull().sum())\n",
    "data_quality['missing'] = missing[0]\n",
    "\n",
    "data_quality['number of records'] = len(data)\n",
    "data_quality['missing pct'] = data_quality['missing']/data_quality['number of records']\n"
   ]
  },
  {
   "cell_type": "code",
   "execution_count": 9,
   "metadata": {},
   "outputs": [
    {
     "data": {
      "text/html": [
       "<div>\n",
       "<style>\n",
       "    .dataframe thead tr:only-child th {\n",
       "        text-align: right;\n",
       "    }\n",
       "\n",
       "    .dataframe thead th {\n",
       "        text-align: left;\n",
       "    }\n",
       "\n",
       "    .dataframe tbody tr th {\n",
       "        vertical-align: top;\n",
       "    }\n",
       "</style>\n",
       "<table border=\"1\" class=\"dataframe\">\n",
       "  <thead>\n",
       "    <tr style=\"text-align: right;\">\n",
       "      <th></th>\n",
       "      <th>0</th>\n",
       "      <th>variable</th>\n",
       "      <th>missing</th>\n",
       "      <th>number of records</th>\n",
       "      <th>missing pct</th>\n",
       "    </tr>\n",
       "  </thead>\n",
       "  <tbody>\n",
       "    <tr>\n",
       "      <th>mou_Mean</th>\n",
       "      <td>float64</td>\n",
       "      <td>mou_Mean</td>\n",
       "      <td>26</td>\n",
       "      <td>13259</td>\n",
       "      <td>0.001961</td>\n",
       "    </tr>\n",
       "    <tr>\n",
       "      <th>totmrc_Mean</th>\n",
       "      <td>float64</td>\n",
       "      <td>totmrc_Mean</td>\n",
       "      <td>26</td>\n",
       "      <td>13259</td>\n",
       "      <td>0.001961</td>\n",
       "    </tr>\n",
       "    <tr>\n",
       "      <th>rev_Range</th>\n",
       "      <td>float64</td>\n",
       "      <td>rev_Range</td>\n",
       "      <td>26</td>\n",
       "      <td>13259</td>\n",
       "      <td>0.001961</td>\n",
       "    </tr>\n",
       "    <tr>\n",
       "      <th>mou_Range</th>\n",
       "      <td>float64</td>\n",
       "      <td>mou_Range</td>\n",
       "      <td>26</td>\n",
       "      <td>13259</td>\n",
       "      <td>0.001961</td>\n",
       "    </tr>\n",
       "    <tr>\n",
       "      <th>change_mou</th>\n",
       "      <td>float64</td>\n",
       "      <td>change_mou</td>\n",
       "      <td>71</td>\n",
       "      <td>13259</td>\n",
       "      <td>0.005355</td>\n",
       "    </tr>\n",
       "  </tbody>\n",
       "</table>\n",
       "</div>"
      ],
      "text/plain": [
       "                   0     variable  missing  number of records  missing pct\n",
       "mou_Mean     float64     mou_Mean       26              13259     0.001961\n",
       "totmrc_Mean  float64  totmrc_Mean       26              13259     0.001961\n",
       "rev_Range    float64    rev_Range       26              13259     0.001961\n",
       "mou_Range    float64    mou_Range       26              13259     0.001961\n",
       "change_mou   float64   change_mou       71              13259     0.005355"
      ]
     },
     "execution_count": 9,
     "metadata": {},
     "output_type": "execute_result"
    }
   ],
   "source": [
    "data_quality.head()"
   ]
  },
  {
   "cell_type": "code",
   "execution_count": 10,
   "metadata": {
    "collapsed": true
   },
   "outputs": [],
   "source": [
    "data_relevant = data_quality[data_quality['missing pct']<=0.25]"
   ]
  },
  {
   "cell_type": "code",
   "execution_count": 11,
   "metadata": {},
   "outputs": [
    {
     "name": "stdout",
     "output_type": "stream",
     "text": [
      "Number of Relevant Variables is : 66\n",
      "['mou_Mean', 'totmrc_Mean', 'rev_Range', 'mou_Range', 'change_mou', 'drop_blk_Mean', 'drop_vce_Range', 'owylis_vce_Range', 'mou_opkv_Range', 'months', 'totcalls', 'income', 'eqpdays', 'custcare_Mean', 'callwait_Mean', 'iwylis_vce_Mean', 'callwait_Range', 'ccrndmou_Range', 'adjqty', 'ovrrev_Mean', 'rev_Mean', 'ovrmou_Mean', 'comp_vce_Mean', 'plcd_vce_Mean', 'avg3mou', 'avgmou', 'avg3qty', 'avgqty', 'avg6mou', 'avg6qty', 'crclscod', 'asl_flag', 'prizm_social_one', 'area', 'refurb_new', 'hnd_webcap', 'marital', 'ethnic', 'age1', 'age2', 'models', 'hnd_price', 'actvsubs', 'uniqsubs', 'forgntvl', 'opk_dat_Mean', 'mtrcycle', 'truck', 'roam_Mean', 'recv_sms_Mean', 'blck_dat_Mean', 'mou_pead_Mean', 'churn', 'car_buy', 'csa', 'da_Mean', 'da_Range', 'datovr_Mean', 'datovr_Range', 'drop_dat_Mean', 'drop_vce_Mean', 'adjmou', 'totrev', 'adjrev', 'avgrev', 'Customer_ID']\n"
     ]
    }
   ],
   "source": [
    "variables = data_relevant.variable.tolist()\n",
    "print(\"Number of Relevant Variables is : \" + str(len(variables)))\n",
    "print(variables)"
   ]
  },
  {
   "cell_type": "code",
   "execution_count": 12,
   "metadata": {},
   "outputs": [
    {
     "name": "stdout",
     "output_type": "stream",
     "text": [
      "(13259, 66)\n"
     ]
    }
   ],
   "source": [
    "data = data[variables]\n",
    "print(data.shape)"
   ]
  },
  {
   "cell_type": "code",
   "execution_count": 13,
   "metadata": {
    "collapsed": true
   },
   "outputs": [],
   "source": [
    "\n",
    "\n",
    "cat_variables = ['actvsubs', 'age1', 'age2', 'area', 'asl_flag', 'car_buy',\n",
    "                 'crclscod', 'csa', 'ethnic', 'forgntvl', 'hnd_price', 'hnd_webcap',\n",
    "                 'income', 'marital','models', 'mtrcycle', 'prizm_social_one',\n",
    "                 'refurb_new', 'truck', 'uniqsubs']\n",
    "\n",
    "# ,'Customer_ID', 'churn'\n",
    "\n",
    "\n",
    "numeric_variables = ['mou_Mean', 'totmrc_Mean', 'rev_Range', 'mou_Range', 'change_mou',\n",
    "       'drop_blk_Mean', 'drop_vce_Range', 'owylis_vce_Range', 'mou_opkv_Range',\n",
    "       'months', 'totcalls', 'eqpdays', 'custcare_Mean',\n",
    "       'callwait_Mean', 'iwylis_vce_Mean', 'callwait_Range', 'ccrndmou_Range',\n",
    "       'adjqty', 'ovrrev_Mean', 'rev_Mean', 'ovrmou_Mean', 'comp_vce_Mean',\n",
    "       'plcd_vce_Mean', 'avg3mou', 'avgmou', 'avg3qty', 'avgqty', 'avg6mou',\n",
    "       'avg6qty','opk_dat_Mean', 'roam_Mean', 'recv_sms_Mean',\n",
    "       'blck_dat_Mean', 'mou_pead_Mean', 'da_Mean',\n",
    "       'da_Range', 'datovr_Mean', 'datovr_Range', 'drop_dat_Mean',\n",
    "       'drop_vce_Mean', 'adjmou', 'totrev', 'adjrev', 'avgrev']"
   ]
  },
  {
   "cell_type": "code",
   "execution_count": 14,
   "metadata": {
    "collapsed": true
   },
   "outputs": [],
   "source": [
    "for variables in numeric_variables:\n",
    "    data[variables] = data[variables].fillna(np.mean(data[variables]))"
   ]
  },
  {
   "cell_type": "code",
   "execution_count": 15,
   "metadata": {},
   "outputs": [
    {
     "name": "stdout",
     "output_type": "stream",
     "text": [
      "(13259, 66)\n",
      "64\n"
     ]
    }
   ],
   "source": [
    "print(data.shape)\n",
    "print(len(cat_variables)+len(numeric_variables))"
   ]
  },
  {
   "cell_type": "code",
   "execution_count": 16,
   "metadata": {},
   "outputs": [
    {
     "data": {
      "text/html": [
       "<div>\n",
       "<style>\n",
       "    .dataframe thead tr:only-child th {\n",
       "        text-align: right;\n",
       "    }\n",
       "\n",
       "    .dataframe thead th {\n",
       "        text-align: left;\n",
       "    }\n",
       "\n",
       "    .dataframe tbody tr th {\n",
       "        vertical-align: top;\n",
       "    }\n",
       "</style>\n",
       "<table border=\"1\" class=\"dataframe\">\n",
       "  <thead>\n",
       "    <tr style=\"text-align: right;\">\n",
       "      <th></th>\n",
       "      <th>mou_Mean</th>\n",
       "      <th>totmrc_Mean</th>\n",
       "      <th>rev_Range</th>\n",
       "      <th>mou_Range</th>\n",
       "      <th>change_mou</th>\n",
       "      <th>drop_blk_Mean</th>\n",
       "      <th>drop_vce_Range</th>\n",
       "      <th>owylis_vce_Range</th>\n",
       "      <th>mou_opkv_Range</th>\n",
       "      <th>months</th>\n",
       "      <th>...</th>\n",
       "      <th>da_Range</th>\n",
       "      <th>datovr_Mean</th>\n",
       "      <th>datovr_Range</th>\n",
       "      <th>drop_dat_Mean</th>\n",
       "      <th>drop_vce_Mean</th>\n",
       "      <th>adjmou</th>\n",
       "      <th>totrev</th>\n",
       "      <th>adjrev</th>\n",
       "      <th>avgrev</th>\n",
       "      <th>Customer_ID</th>\n",
       "    </tr>\n",
       "  </thead>\n",
       "  <tbody>\n",
       "    <tr>\n",
       "      <th>0</th>\n",
       "      <td>3522.25</td>\n",
       "      <td>104.365</td>\n",
       "      <td>148.15</td>\n",
       "      <td>1329.0</td>\n",
       "      <td>-616.25</td>\n",
       "      <td>22.000000</td>\n",
       "      <td>5</td>\n",
       "      <td>73</td>\n",
       "      <td>1052.43</td>\n",
       "      <td>16</td>\n",
       "      <td>...</td>\n",
       "      <td>3.96</td>\n",
       "      <td>0.000</td>\n",
       "      <td>0.00</td>\n",
       "      <td>0.0</td>\n",
       "      <td>20.333333</td>\n",
       "      <td>30409.0</td>\n",
       "      <td>2305.60</td>\n",
       "      <td>2189.80</td>\n",
       "      <td>145.99</td>\n",
       "      <td>1039115</td>\n",
       "    </tr>\n",
       "    <tr>\n",
       "      <th>1</th>\n",
       "      <td>861.25</td>\n",
       "      <td>45.030</td>\n",
       "      <td>163.77</td>\n",
       "      <td>1018.0</td>\n",
       "      <td>-216.25</td>\n",
       "      <td>47.000000</td>\n",
       "      <td>51</td>\n",
       "      <td>88</td>\n",
       "      <td>268.46</td>\n",
       "      <td>14</td>\n",
       "      <td>...</td>\n",
       "      <td>1.98</td>\n",
       "      <td>0.195</td>\n",
       "      <td>0.39</td>\n",
       "      <td>0.0</td>\n",
       "      <td>42.000000</td>\n",
       "      <td>4754.0</td>\n",
       "      <td>755.63</td>\n",
       "      <td>695.26</td>\n",
       "      <td>53.48</td>\n",
       "      <td>1045943</td>\n",
       "    </tr>\n",
       "    <tr>\n",
       "      <th>2</th>\n",
       "      <td>994.50</td>\n",
       "      <td>64.990</td>\n",
       "      <td>118.79</td>\n",
       "      <td>823.0</td>\n",
       "      <td>-393.50</td>\n",
       "      <td>11.000000</td>\n",
       "      <td>4</td>\n",
       "      <td>11</td>\n",
       "      <td>20.22</td>\n",
       "      <td>20</td>\n",
       "      <td>...</td>\n",
       "      <td>0.99</td>\n",
       "      <td>0.000</td>\n",
       "      <td>0.00</td>\n",
       "      <td>0.0</td>\n",
       "      <td>4.333333</td>\n",
       "      <td>15862.0</td>\n",
       "      <td>1443.86</td>\n",
       "      <td>1360.63</td>\n",
       "      <td>71.61</td>\n",
       "      <td>1046747</td>\n",
       "    </tr>\n",
       "    <tr>\n",
       "      <th>3</th>\n",
       "      <td>305.25</td>\n",
       "      <td>39.990</td>\n",
       "      <td>0.78</td>\n",
       "      <td>163.0</td>\n",
       "      <td>49.75</td>\n",
       "      <td>0.000000</td>\n",
       "      <td>0</td>\n",
       "      <td>14</td>\n",
       "      <td>81.87</td>\n",
       "      <td>12</td>\n",
       "      <td>...</td>\n",
       "      <td>0.00</td>\n",
       "      <td>0.000</td>\n",
       "      <td>0.00</td>\n",
       "      <td>0.0</td>\n",
       "      <td>0.000000</td>\n",
       "      <td>3174.0</td>\n",
       "      <td>397.42</td>\n",
       "      <td>337.44</td>\n",
       "      <td>30.68</td>\n",
       "      <td>1061744</td>\n",
       "    </tr>\n",
       "    <tr>\n",
       "      <th>4</th>\n",
       "      <td>924.75</td>\n",
       "      <td>49.990</td>\n",
       "      <td>111.57</td>\n",
       "      <td>472.0</td>\n",
       "      <td>119.25</td>\n",
       "      <td>13.666667</td>\n",
       "      <td>10</td>\n",
       "      <td>51</td>\n",
       "      <td>54.81</td>\n",
       "      <td>13</td>\n",
       "      <td>...</td>\n",
       "      <td>4.95</td>\n",
       "      <td>0.000</td>\n",
       "      <td>0.00</td>\n",
       "      <td>0.0</td>\n",
       "      <td>12.000000</td>\n",
       "      <td>8977.0</td>\n",
       "      <td>1209.26</td>\n",
       "      <td>1126.03</td>\n",
       "      <td>93.84</td>\n",
       "      <td>1058025</td>\n",
       "    </tr>\n",
       "  </tbody>\n",
       "</table>\n",
       "<p>5 rows × 66 columns</p>\n",
       "</div>"
      ],
      "text/plain": [
       "   mou_Mean  totmrc_Mean  rev_Range  mou_Range  change_mou  drop_blk_Mean  \\\n",
       "0   3522.25      104.365     148.15     1329.0     -616.25      22.000000   \n",
       "1    861.25       45.030     163.77     1018.0     -216.25      47.000000   \n",
       "2    994.50       64.990     118.79      823.0     -393.50      11.000000   \n",
       "3    305.25       39.990       0.78      163.0       49.75       0.000000   \n",
       "4    924.75       49.990     111.57      472.0      119.25      13.666667   \n",
       "\n",
       "   drop_vce_Range  owylis_vce_Range  mou_opkv_Range  months     ...       \\\n",
       "0               5                73         1052.43      16     ...        \n",
       "1              51                88          268.46      14     ...        \n",
       "2               4                11           20.22      20     ...        \n",
       "3               0                14           81.87      12     ...        \n",
       "4              10                51           54.81      13     ...        \n",
       "\n",
       "   da_Range  datovr_Mean  datovr_Range  drop_dat_Mean  drop_vce_Mean   adjmou  \\\n",
       "0      3.96        0.000          0.00            0.0      20.333333  30409.0   \n",
       "1      1.98        0.195          0.39            0.0      42.000000   4754.0   \n",
       "2      0.99        0.000          0.00            0.0       4.333333  15862.0   \n",
       "3      0.00        0.000          0.00            0.0       0.000000   3174.0   \n",
       "4      4.95        0.000          0.00            0.0      12.000000   8977.0   \n",
       "\n",
       "    totrev   adjrev  avgrev  Customer_ID  \n",
       "0  2305.60  2189.80  145.99      1039115  \n",
       "1   755.63   695.26   53.48      1045943  \n",
       "2  1443.86  1360.63   71.61      1046747  \n",
       "3   397.42   337.44   30.68      1061744  \n",
       "4  1209.26  1126.03   93.84      1058025  \n",
       "\n",
       "[5 rows x 66 columns]"
      ]
     },
     "execution_count": 16,
     "metadata": {},
     "output_type": "execute_result"
    }
   ],
   "source": [
    "data.head()"
   ]
  },
  {
   "cell_type": "code",
   "execution_count": 17,
   "metadata": {
    "collapsed": true
   },
   "outputs": [],
   "source": [
    "# Missing values treatment for categorical variable\n",
    "\n",
    "\n",
    "#data[cat_variables[0]].isnull().sum() no missing in actvsubs\n",
    "data[cat_variables[1]] = data[cat_variables[1]].fillna(\"70\")\n",
    "data[cat_variables[2]] = data[cat_variables[2]].fillna(\"82\")\n",
    "data[cat_variables[3]] = data[cat_variables[3]].fillna(\"NoChurn\")\n",
    "#data[cat_variables[4]] = data[cat_variables[4]].fillna() - no missing\n",
    "#data[cat_variables[5]] = data[cat_variables[5]].fillna() - omit car_buy variable\n",
    "#data[cat_variables[6]] = data[cat_variables[6]].fillna() - no missing crclscod\n",
    "data[cat_variables[7]] = data[cat_variables[7]].fillna(\"Unknown\") #as all na's are churn = 1\n",
    "data[cat_variables[8]] = data[cat_variables[8]].fillna(\"F\")#ethnic\n",
    "#data[cat_variables[9]] = data[cat_variables[9]].fillna(\"70\")#forgntvl - omit variable as churn rates are same for both levels\n",
    "data[cat_variables[10]] = data[cat_variables[10]].fillna(\"499.99\")#hnd price na filled with nearest churn percentage category\n",
    "data[cat_variables[11]] = data[cat_variables[11]].fillna(\"WC\")\n",
    "data[cat_variables[12]] = data[cat_variables[12]].fillna(\"9\")\n",
    "data[cat_variables[13]] = data[cat_variables[13]].fillna(\"S\")\n",
    "#data[cat_variables[14]] = data[cat_variables[14]].fillna(\"\") -no missing in models\n",
    "data[cat_variables[15]] = data[cat_variables[15]].fillna(\"0\")\n",
    "data[cat_variables[16]] = data[cat_variables[16]].fillna(\"S\")\n",
    "#data[cat_variables[17]] = data[cat_variables[17]].fillna(\"\")no missing in referb_new\n",
    "data[cat_variables[18]] = data[cat_variables[18]].fillna(\"1\")\n",
    "#data[cat_variables[19]] = data[cat_variables[19]].fillna(\"\") - no missing in uniqsubs\n"
   ]
  },
  {
   "cell_type": "code",
   "execution_count": 18,
   "metadata": {
    "collapsed": true
   },
   "outputs": [],
   "source": [
    "for variables in cat_variables:\n",
    "    data[variables] = data[variables].astype('category')\n"
   ]
  },
  {
   "cell_type": "code",
   "execution_count": 19,
   "metadata": {},
   "outputs": [
    {
     "data": {
      "text/plain": [
       "mou_Mean             float64\n",
       "totmrc_Mean          float64\n",
       "rev_Range            float64\n",
       "mou_Range            float64\n",
       "change_mou           float64\n",
       "drop_blk_Mean        float64\n",
       "drop_vce_Range         int64\n",
       "owylis_vce_Range       int64\n",
       "mou_opkv_Range       float64\n",
       "months                 int64\n",
       "totcalls               int64\n",
       "income              category\n",
       "eqpdays                int64\n",
       "custcare_Mean        float64\n",
       "callwait_Mean        float64\n",
       "iwylis_vce_Mean      float64\n",
       "callwait_Range         int64\n",
       "ccrndmou_Range         int64\n",
       "adjqty                 int64\n",
       "ovrrev_Mean          float64\n",
       "rev_Mean             float64\n",
       "ovrmou_Mean          float64\n",
       "comp_vce_Mean        float64\n",
       "plcd_vce_Mean        float64\n",
       "avg3mou                int64\n",
       "avgmou               float64\n",
       "avg3qty                int64\n",
       "avgqty               float64\n",
       "avg6mou              float64\n",
       "avg6qty              float64\n",
       "                      ...   \n",
       "marital             category\n",
       "ethnic              category\n",
       "age1                category\n",
       "age2                category\n",
       "models              category\n",
       "hnd_price           category\n",
       "actvsubs            category\n",
       "uniqsubs            category\n",
       "forgntvl            category\n",
       "opk_dat_Mean         float64\n",
       "mtrcycle            category\n",
       "truck               category\n",
       "roam_Mean            float64\n",
       "recv_sms_Mean        float64\n",
       "blck_dat_Mean        float64\n",
       "mou_pead_Mean        float64\n",
       "churn                  int64\n",
       "car_buy             category\n",
       "csa                 category\n",
       "da_Mean              float64\n",
       "da_Range             float64\n",
       "datovr_Mean          float64\n",
       "datovr_Range         float64\n",
       "drop_dat_Mean        float64\n",
       "drop_vce_Mean        float64\n",
       "adjmou               float64\n",
       "totrev               float64\n",
       "adjrev               float64\n",
       "avgrev               float64\n",
       "Customer_ID            int64\n",
       "Length: 66, dtype: object"
      ]
     },
     "execution_count": 19,
     "metadata": {},
     "output_type": "execute_result"
    }
   ],
   "source": [
    "data.dtypes"
   ]
  },
  {
   "cell_type": "code",
   "execution_count": 20,
   "metadata": {},
   "outputs": [
    {
     "name": "stdout",
     "output_type": "stream",
     "text": [
      "428\n",
      "mou_Mean       0\n",
      "totmrc_Mean    0\n",
      "rev_Range      0\n",
      "mou_Range      0\n",
      "change_mou     0\n",
      "dtype: int64\n"
     ]
    }
   ],
   "source": [
    "missing_check = data.isnull().sum()\n",
    "print(missing_check.sum())\n",
    "print(missing_check[:5])"
   ]
  },
  {
   "cell_type": "code",
   "execution_count": 21,
   "metadata": {
    "collapsed": true
   },
   "outputs": [],
   "source": [
    "data['vce_comp_pct'] = data['comp_vce_Mean']/data['plcd_vce_Mean']\n",
    "data['vce_comp_pct'] = data['vce_comp_pct'].fillna(0)"
   ]
  },
  {
   "cell_type": "code",
   "execution_count": null,
   "metadata": {
    "collapsed": true
   },
   "outputs": [],
   "source": []
  },
  {
   "cell_type": "code",
   "execution_count": 22,
   "metadata": {},
   "outputs": [
    {
     "name": "stdout",
     "output_type": "stream",
     "text": [
      "428\n",
      "mou_Mean              0\n",
      "totmrc_Mean           0\n",
      "rev_Range             0\n",
      "mou_Range             0\n",
      "change_mou            0\n",
      "drop_blk_Mean         0\n",
      "drop_vce_Range        0\n",
      "owylis_vce_Range      0\n",
      "mou_opkv_Range        0\n",
      "months                0\n",
      "totcalls              0\n",
      "income                0\n",
      "eqpdays               0\n",
      "custcare_Mean         0\n",
      "callwait_Mean         0\n",
      "iwylis_vce_Mean       0\n",
      "callwait_Range        0\n",
      "ccrndmou_Range        0\n",
      "adjqty                0\n",
      "ovrrev_Mean           0\n",
      "rev_Mean              0\n",
      "ovrmou_Mean           0\n",
      "comp_vce_Mean         0\n",
      "plcd_vce_Mean         0\n",
      "avg3mou               0\n",
      "avgmou                0\n",
      "avg3qty               0\n",
      "avgqty                0\n",
      "avg6mou               0\n",
      "avg6qty               0\n",
      "                   ... \n",
      "ethnic                0\n",
      "age1                  0\n",
      "age2                  0\n",
      "models                0\n",
      "hnd_price             0\n",
      "actvsubs              0\n",
      "uniqsubs              0\n",
      "forgntvl            214\n",
      "opk_dat_Mean          0\n",
      "mtrcycle              0\n",
      "truck                 0\n",
      "roam_Mean             0\n",
      "recv_sms_Mean         0\n",
      "blck_dat_Mean         0\n",
      "mou_pead_Mean         0\n",
      "churn                 0\n",
      "car_buy             214\n",
      "csa                   0\n",
      "da_Mean               0\n",
      "da_Range              0\n",
      "datovr_Mean           0\n",
      "datovr_Range          0\n",
      "drop_dat_Mean         0\n",
      "drop_vce_Mean         0\n",
      "adjmou                0\n",
      "totrev                0\n",
      "adjrev                0\n",
      "avgrev                0\n",
      "Customer_ID           0\n",
      "vce_comp_pct          0\n",
      "Length: 67, dtype: int64\n"
     ]
    }
   ],
   "source": [
    "missing_check = data.isnull().sum()\n",
    "print(missing_check.sum())\n",
    "print(missing_check)"
   ]
  },
  {
   "cell_type": "code",
   "execution_count": 23,
   "metadata": {},
   "outputs": [
    {
     "data": {
      "text/plain": [
       "(13259, 67)"
      ]
     },
     "execution_count": 23,
     "metadata": {},
     "output_type": "execute_result"
    }
   ],
   "source": [
    "data.shape"
   ]
  },
  {
   "cell_type": "code",
   "execution_count": 24,
   "metadata": {
    "collapsed": true
   },
   "outputs": [],
   "source": [
    "#feature engineering - target guided ordinal encoding\n",
    "\n",
    "for variable in cat_variables:\n",
    "    variable_dict = {k:i for i,k in enumerate(data.groupby([variable])['churn'].mean().sort_values().index,0)}\n",
    "    data.loc[:,variable] = data.loc[:,variable].map(variable_dict)"
   ]
  },
  {
   "cell_type": "code",
   "execution_count": 25,
   "metadata": {
    "collapsed": true
   },
   "outputs": [],
   "source": [
    "data = data.drop([\"car_buy\",\"forgntvl\"],axis = 1)"
   ]
  },
  {
   "cell_type": "code",
   "execution_count": 26,
   "metadata": {},
   "outputs": [
    {
     "data": {
      "text/plain": [
       "(13259, 65)"
      ]
     },
     "execution_count": 26,
     "metadata": {},
     "output_type": "execute_result"
    }
   ],
   "source": [
    "data.shape"
   ]
  },
  {
   "cell_type": "code",
   "execution_count": 27,
   "metadata": {},
   "outputs": [
    {
     "data": {
      "text/plain": [
       "Index(['mou_Mean', 'totmrc_Mean', 'rev_Range', 'mou_Range', 'change_mou',\n",
       "       'drop_blk_Mean', 'drop_vce_Range', 'owylis_vce_Range', 'mou_opkv_Range',\n",
       "       'months', 'totcalls', 'income', 'eqpdays', 'custcare_Mean',\n",
       "       'callwait_Mean', 'iwylis_vce_Mean', 'callwait_Range', 'ccrndmou_Range',\n",
       "       'adjqty', 'ovrrev_Mean', 'rev_Mean', 'ovrmou_Mean', 'comp_vce_Mean',\n",
       "       'plcd_vce_Mean', 'avg3mou', 'avgmou', 'avg3qty', 'avgqty', 'avg6mou',\n",
       "       'avg6qty', 'crclscod', 'asl_flag', 'prizm_social_one', 'area',\n",
       "       'refurb_new', 'hnd_webcap', 'marital', 'ethnic', 'age1', 'age2',\n",
       "       'models', 'hnd_price', 'actvsubs', 'uniqsubs', 'opk_dat_Mean',\n",
       "       'mtrcycle', 'truck', 'roam_Mean', 'recv_sms_Mean', 'blck_dat_Mean',\n",
       "       'mou_pead_Mean', 'churn', 'csa', 'da_Mean', 'da_Range', 'datovr_Mean',\n",
       "       'datovr_Range', 'drop_dat_Mean', 'drop_vce_Mean', 'adjmou', 'totrev',\n",
       "       'adjrev', 'avgrev', 'Customer_ID', 'vce_comp_pct'],\n",
       "      dtype='object')"
      ]
     },
     "execution_count": 27,
     "metadata": {},
     "output_type": "execute_result"
    }
   ],
   "source": [
    "data.columns"
   ]
  },
  {
   "cell_type": "code",
   "execution_count": 28,
   "metadata": {
    "collapsed": true
   },
   "outputs": [],
   "source": [
    "\n",
    "import random\n",
    "random.seed(400)\n",
    "\n",
    "\n",
    "from sklearn.model_selection import train_test_split as tts\n",
    "\n",
    "X_train,X_test,y_train,y_test = tts(data.drop('churn',axis=1),data.churn,test_size = 0.25, random_state = 1000)\n"
   ]
  },
  {
   "cell_type": "code",
   "execution_count": 29,
   "metadata": {},
   "outputs": [
    {
     "name": "stdout",
     "output_type": "stream",
     "text": [
      "(9944, 64)\n",
      "(9944,)\n",
      "(3315, 64)\n",
      "(3315,)\n"
     ]
    }
   ],
   "source": [
    "print(X_train.shape)\n",
    "print(y_train.shape)\n",
    "print(X_test.shape)\n",
    "print(y_test.shape)"
   ]
  },
  {
   "cell_type": "code",
   "execution_count": 30,
   "metadata": {},
   "outputs": [
    {
     "name": "stderr",
     "output_type": "stream",
     "text": [
      "E:\\Anaconda\\lib\\site-packages\\sklearn\\ensemble\\weight_boosting.py:29: DeprecationWarning: numpy.core.umath_tests is an internal NumPy module and should not be imported. It will be removed in a future NumPy release.\n",
      "  from numpy.core.umath_tests import inner1d\n"
     ]
    },
    {
     "data": {
      "text/plain": [
       "RandomForestClassifier(bootstrap=True, class_weight=None, criterion='gini',\n",
       "            max_depth=9, max_features='auto', max_leaf_nodes=None,\n",
       "            min_impurity_decrease=0.0, min_impurity_split=None,\n",
       "            min_samples_leaf=1, min_samples_split=2,\n",
       "            min_weight_fraction_leaf=0.0, n_estimators=500, n_jobs=1,\n",
       "            oob_score=True, random_state=400, verbose=0, warm_start=False)"
      ]
     },
     "execution_count": 30,
     "metadata": {},
     "output_type": "execute_result"
    }
   ],
   "source": [
    "from sklearn.ensemble import RandomForestClassifier\n",
    "\n",
    "\n",
    "i,j = 500,9\n",
    "reg  = RandomForestClassifier(n_estimators=i,max_depth =j ,oob_score=True,random_state=400,bootstrap=True)\n",
    "reg.fit(X_train.drop(\"Customer_ID\",axis=1),y_train)"
   ]
  },
  {
   "cell_type": "code",
   "execution_count": 31,
   "metadata": {},
   "outputs": [
    {
     "data": {
      "text/plain": [
       "0.7648833467417538"
      ]
     },
     "execution_count": 31,
     "metadata": {},
     "output_type": "execute_result"
    }
   ],
   "source": [
    "reg.oob_score_"
   ]
  },
  {
   "cell_type": "code",
   "execution_count": 32,
   "metadata": {
    "collapsed": true
   },
   "outputs": [],
   "source": [
    "y_pred = pd.DataFrame(reg.predict_proba(X_test.drop(\"Customer_ID\",axis=1)))\n",
    "y_pred = y_pred[1]\n",
    "y_pred1 = (y_pred>0.25)\n",
    "y_pred1 = y_pred1.astype('int')"
   ]
  },
  {
   "cell_type": "code",
   "execution_count": 33,
   "metadata": {},
   "outputs": [
    {
     "data": {
      "text/plain": [
       "0    0\n",
       "1    0\n",
       "2    0\n",
       "3    0\n",
       "4    1\n",
       "Name: 1, dtype: int32"
      ]
     },
     "execution_count": 33,
     "metadata": {},
     "output_type": "execute_result"
    }
   ],
   "source": [
    "y_pred1[:5]"
   ]
  },
  {
   "cell_type": "code",
   "execution_count": 34,
   "metadata": {},
   "outputs": [
    {
     "name": "stdout",
     "output_type": "stream",
     "text": [
      "0.6591251885369532\n"
     ]
    }
   ],
   "source": [
    "from sklearn.metrics import confusion_matrix\n",
    "cm = confusion_matrix(y_test,y_pred1)\n",
    "print((cm[0,0]+cm[1,1])/cm.sum())"
   ]
  },
  {
   "cell_type": "code",
   "execution_count": 35,
   "metadata": {},
   "outputs": [
    {
     "name": "stdout",
     "output_type": "stream",
     "text": [
      "roc_auc_score:\n",
      "0.6513555463576158\n"
     ]
    }
   ],
   "source": [
    "from sklearn.metrics import roc_auc_score\n",
    "print(\"roc_auc_score:\")\n",
    "print(roc_auc_score(y_test, y_pred1))"
   ]
  },
  {
   "cell_type": "code",
   "execution_count": 36,
   "metadata": {
    "collapsed": true
   },
   "outputs": [],
   "source": [
    "from sklearn.metrics import classification_report\n",
    "from sklearn.metrics import confusion_matrix\n",
    "from sklearn.metrics import accuracy_score\n",
    "from sklearn.metrics import auc\n",
    "from sklearn.metrics import roc_curve"
   ]
  },
  {
   "cell_type": "code",
   "execution_count": 37,
   "metadata": {},
   "outputs": [
    {
     "name": "stdout",
     "output_type": "stream",
     "text": [
      "Classification Report:\n",
      "             precision    recall  f1-score   support\n",
      "\n",
      "          0       0.86      0.67      0.75      2560\n",
      "          1       0.36      0.64      0.46       755\n",
      "\n",
      "avg / total       0.75      0.66      0.68      3315\n",
      "\n",
      "Accuracy Score is:\n",
      "0.6591251885369532\n"
     ]
    }
   ],
   "source": [
    "print(\"Classification Report:\")\n",
    "print(classification_report(y_test, y_pred1))\n",
    "\n",
    "print(\"Accuracy Score is:\")\n",
    "print(accuracy_score(y_test, y_pred1))\n"
   ]
  },
  {
   "cell_type": "code",
   "execution_count": 38,
   "metadata": {},
   "outputs": [
    {
     "data": {
      "text/plain": [
       "0    1978\n",
       "1    1337\n",
       "Name: 1, dtype: int64"
      ]
     },
     "execution_count": 38,
     "metadata": {},
     "output_type": "execute_result"
    }
   ],
   "source": [
    "pd.DataFrame(y_pred1)[1].value_counts()"
   ]
  },
  {
   "cell_type": "code",
   "execution_count": 39,
   "metadata": {},
   "outputs": [
    {
     "data": {
      "text/plain": [
       "Index(['mou_Mean', 'totmrc_Mean', 'rev_Range', 'mou_Range', 'change_mou',\n",
       "       'drop_blk_Mean', 'drop_vce_Range', 'owylis_vce_Range', 'mou_opkv_Range',\n",
       "       'months', 'totcalls', 'income', 'eqpdays', 'custcare_Mean',\n",
       "       'callwait_Mean', 'iwylis_vce_Mean', 'callwait_Range', 'ccrndmou_Range',\n",
       "       'adjqty', 'ovrrev_Mean', 'rev_Mean', 'ovrmou_Mean', 'comp_vce_Mean',\n",
       "       'plcd_vce_Mean', 'avg3mou', 'avgmou', 'avg3qty', 'avgqty', 'avg6mou',\n",
       "       'avg6qty', 'crclscod', 'asl_flag', 'prizm_social_one', 'area',\n",
       "       'refurb_new', 'hnd_webcap', 'marital', 'ethnic', 'age1', 'age2',\n",
       "       'models', 'hnd_price', 'actvsubs', 'uniqsubs', 'opk_dat_Mean',\n",
       "       'mtrcycle', 'truck', 'roam_Mean', 'recv_sms_Mean', 'blck_dat_Mean',\n",
       "       'mou_pead_Mean', 'csa', 'da_Mean', 'da_Range', 'datovr_Mean',\n",
       "       'datovr_Range', 'drop_dat_Mean', 'drop_vce_Mean', 'adjmou', 'totrev',\n",
       "       'adjrev', 'avgrev', 'Customer_ID', 'vce_comp_pct'],\n",
       "      dtype='object')"
      ]
     },
     "execution_count": 39,
     "metadata": {},
     "output_type": "execute_result"
    }
   ],
   "source": [
    "X_test.columns"
   ]
  },
  {
   "cell_type": "code",
   "execution_count": 40,
   "metadata": {
    "collapsed": true
   },
   "outputs": [],
   "source": [
    "importance = reg.feature_importances_\n",
    "importance = pd.DataFrame(importance, index=X_train.drop(\"Customer_ID\",axis=1).columns, \n",
    "                          columns=[\"Importance\"])"
   ]
  },
  {
   "cell_type": "code",
   "execution_count": 41,
   "metadata": {},
   "outputs": [
    {
     "data": {
      "text/html": [
       "<div>\n",
       "<style>\n",
       "    .dataframe thead tr:only-child th {\n",
       "        text-align: right;\n",
       "    }\n",
       "\n",
       "    .dataframe thead th {\n",
       "        text-align: left;\n",
       "    }\n",
       "\n",
       "    .dataframe tbody tr th {\n",
       "        vertical-align: top;\n",
       "    }\n",
       "</style>\n",
       "<table border=\"1\" class=\"dataframe\">\n",
       "  <thead>\n",
       "    <tr style=\"text-align: right;\">\n",
       "      <th></th>\n",
       "      <th>Importance</th>\n",
       "    </tr>\n",
       "  </thead>\n",
       "  <tbody>\n",
       "    <tr>\n",
       "      <th>mou_Mean</th>\n",
       "      <td>0.032326</td>\n",
       "    </tr>\n",
       "    <tr>\n",
       "      <th>totmrc_Mean</th>\n",
       "      <td>0.021357</td>\n",
       "    </tr>\n",
       "    <tr>\n",
       "      <th>rev_Range</th>\n",
       "      <td>0.021052</td>\n",
       "    </tr>\n",
       "    <tr>\n",
       "      <th>mou_Range</th>\n",
       "      <td>0.025320</td>\n",
       "    </tr>\n",
       "    <tr>\n",
       "      <th>change_mou</th>\n",
       "      <td>0.030969</td>\n",
       "    </tr>\n",
       "  </tbody>\n",
       "</table>\n",
       "</div>"
      ],
      "text/plain": [
       "             Importance\n",
       "mou_Mean       0.032326\n",
       "totmrc_Mean    0.021357\n",
       "rev_Range      0.021052\n",
       "mou_Range      0.025320\n",
       "change_mou     0.030969"
      ]
     },
     "execution_count": 41,
     "metadata": {},
     "output_type": "execute_result"
    }
   ],
   "source": [
    "importance.head()"
   ]
  },
  {
   "cell_type": "code",
   "execution_count": 42,
   "metadata": {},
   "outputs": [
    {
     "data": {
      "text/html": [
       "<div>\n",
       "<style>\n",
       "    .dataframe thead tr:only-child th {\n",
       "        text-align: right;\n",
       "    }\n",
       "\n",
       "    .dataframe thead th {\n",
       "        text-align: left;\n",
       "    }\n",
       "\n",
       "    .dataframe tbody tr th {\n",
       "        vertical-align: top;\n",
       "    }\n",
       "</style>\n",
       "<table border=\"1\" class=\"dataframe\">\n",
       "  <thead>\n",
       "    <tr style=\"text-align: right;\">\n",
       "      <th></th>\n",
       "      <th>Importance</th>\n",
       "    </tr>\n",
       "  </thead>\n",
       "  <tbody>\n",
       "    <tr>\n",
       "      <th>csa</th>\n",
       "      <td>0.115144</td>\n",
       "    </tr>\n",
       "    <tr>\n",
       "      <th>eqpdays</th>\n",
       "      <td>0.059186</td>\n",
       "    </tr>\n",
       "    <tr>\n",
       "      <th>months</th>\n",
       "      <td>0.037463</td>\n",
       "    </tr>\n",
       "    <tr>\n",
       "      <th>mou_Mean</th>\n",
       "      <td>0.032326</td>\n",
       "    </tr>\n",
       "    <tr>\n",
       "      <th>change_mou</th>\n",
       "      <td>0.030969</td>\n",
       "    </tr>\n",
       "  </tbody>\n",
       "</table>\n",
       "</div>"
      ],
      "text/plain": [
       "            Importance\n",
       "csa           0.115144\n",
       "eqpdays       0.059186\n",
       "months        0.037463\n",
       "mou_Mean      0.032326\n",
       "change_mou    0.030969"
      ]
     },
     "execution_count": 42,
     "metadata": {},
     "output_type": "execute_result"
    }
   ],
   "source": [
    "importance.sort_values(by = 'Importance',ascending = False).head()"
   ]
  },
  {
   "cell_type": "code",
   "execution_count": 43,
   "metadata": {
    "collapsed": true
   },
   "outputs": [],
   "source": [
    "all_features = X_train.drop(\"Customer_ID\",axis=1).columns.tolist()\n",
    "imp_features = importance[importance['Importance']>0]"
   ]
  },
  {
   "cell_type": "code",
   "execution_count": 44,
   "metadata": {},
   "outputs": [
    {
     "name": "stdout",
     "output_type": "stream",
     "text": [
      "Number of Features used to build model is 63\n",
      "Number of Important Features  is 63\n"
     ]
    }
   ],
   "source": [
    "print(\"Number of Features used to build model is \" + str(len(all_features)))\n",
    "print(\"Number of Important Features  is \" + str(len(importance)))\n"
   ]
  },
  {
   "cell_type": "markdown",
   "metadata": {},
   "source": [
    "## Top Line Questions of Interest to Senior Management:"
   ]
  },
  {
   "cell_type": "markdown",
   "metadata": {},
   "source": [
    "Q. What are the top five factors driving likelihood of churn at Mobicom?"
   ]
  },
  {
   "cell_type": "code",
   "execution_count": 67,
   "metadata": {},
   "outputs": [
    {
     "name": "stdout",
     "output_type": "stream",
     "text": [
      "A1.Top 5 factors driving the liklihood of churn are:\n",
      "['csa', 'eqpdays', 'months', 'mou_Mean', 'change_mou']\n"
     ]
    }
   ],
   "source": [
    "print(\"A1.Top 5 factors driving the liklihood of churn are:\")\n",
    "print(importance.sort_values(by = 'Importance',ascending = False).head().index.tolist())"
   ]
  },
  {
   "cell_type": "markdown",
   "metadata": {},
   "source": [
    "Q. Validation of survey findings. a) Whether “cost and billing” and “network and service quality” are important factors influencing churn behaviour.  b) Are data usage connectivity issues turning out to be costly? In other words, is it leading to churn?"
   ]
  },
  {
   "cell_type": "code",
   "execution_count": 46,
   "metadata": {},
   "outputs": [
    {
     "name": "stdout",
     "output_type": "stream",
     "text": [
      "['csa', 'eqpdays', 'months', 'mou_Mean', 'change_mou', 'mou_Range', 'avg3mou', 'avgrev', 'avg3qty', 'rev_Mean', 'age1', 'totmrc_Mean', 'rev_Range', 'totrev', 'adjrev', 'totcalls', 'adjqty', 'avgqty', 'avgmou', 'avg6mou', 'hnd_price', 'crclscod', 'adjmou', 'vce_comp_pct', 'avg6qty', 'comp_vce_Mean', 'mou_opkv_Range', 'ethnic', 'ovrrev_Mean', 'ovrmou_Mean', 'age2', 'plcd_vce_Mean', 'area', 'owylis_vce_Range', 'drop_blk_Mean', 'iwylis_vce_Mean', 'drop_vce_Mean', 'drop_vce_Range', 'ccrndmou_Range', 'uniqsubs', 'roam_Mean', 'income', 'da_Mean', 'custcare_Mean', 'callwait_Mean', 'da_Range', 'models', 'prizm_social_one', 'callwait_Range', 'marital', 'hnd_webcap', 'actvsubs', 'datovr_Mean', 'mou_pead_Mean', 'asl_flag', 'datovr_Range', 'refurb_new', 'opk_dat_Mean', 'truck', 'drop_dat_Mean', 'recv_sms_Mean', 'mtrcycle', 'blck_dat_Mean']\n"
     ]
    }
   ],
   "source": [
    "print(importance.sort_values(by = 'Importance',ascending = False).index.tolist())\n"
   ]
  },
  {
   "cell_type": "code",
   "execution_count": 47,
   "metadata": {},
   "outputs": [
    {
     "name": "stdout",
     "output_type": "stream",
     "text": [
      "Since, Mean number of dropped (failed) data calls as represented by variable drop_dat_Mean is one of the important features in the model, implies that data usage connectivity issues are turning out to be costly or leading to churn\n"
     ]
    }
   ],
   "source": [
    "print(\"Since, Mean number of dropped (failed) data calls as represented by variable drop_dat_Mean is one of the important features in the model, implies that data usage connectivity issues are turning out to be costly or leading to churn\")"
   ]
  },
  {
   "cell_type": "markdown",
   "metadata": {},
   "source": [
    "Q. Would you recommend rate plan migration as a proactive retention strategy?\n",
    "\n"
   ]
  },
  {
   "cell_type": "markdown",
   "metadata": {},
   "source": [
    "Rate migration plan is recommended for customers from whom avg_rev is medium to high and churn probability is medium to high in the concerned avg rev segments"
   ]
  },
  {
   "cell_type": "markdown",
   "metadata": {},
   "source": [
    "Q. What would be your recommendation on how to use this churn model for prioritisation of customers for a proactive retention campaigns in the future?"
   ]
  },
  {
   "cell_type": "markdown",
   "metadata": {},
   "source": [
    "Q. What would be the target segments for proactive retention campaigns? Falling ARPU forecast is also a concern and therefore, Mobicom would like to save their high revenue customers besides managing churn. Given a budget constraint of a contact list of 20% of the subscriber pool, which subscribers should prioritized if “revenue saves” is also a priority besides controlling churn. In other words, controlling churn is the primary objective and revenue saves is the secondary objective."
   ]
  },
  {
   "cell_type": "markdown",
   "metadata": {},
   "source": [
    "From the data set given and based on the model built using Random Forest Classifier Machine Learning Algorithm we can use the results obtained for prioritisation of customers for proactive retention campaigns in the following way and target segments can be identified:-"
   ]
  },
  {
   "cell_type": "code",
   "execution_count": null,
   "metadata": {
    "collapsed": true
   },
   "outputs": [],
   "source": []
  },
  {
   "cell_type": "code",
   "execution_count": 48,
   "metadata": {},
   "outputs": [
    {
     "name": "stdout",
     "output_type": "stream",
     "text": [
      "1.19\n",
      "620.0\n",
      "58.74580693815988\n"
     ]
    }
   ],
   "source": [
    "print(X_test.avgrev.min())\n",
    "print(X_test.avgrev.max())\n",
    "print(X_test.avgrev.mean())"
   ]
  },
  {
   "cell_type": "code",
   "execution_count": 49,
   "metadata": {
    "collapsed": true
   },
   "outputs": [],
   "source": [
    "segment_data = pd.DataFrame({\"cust_id\":X_test.Customer_ID,\"avgrev\":X_test.avgrev})\n",
    "segment_data = segment_data.reset_index()"
   ]
  },
  {
   "cell_type": "code",
   "execution_count": 50,
   "metadata": {},
   "outputs": [
    {
     "data": {
      "text/html": [
       "<div>\n",
       "<style>\n",
       "    .dataframe thead tr:only-child th {\n",
       "        text-align: right;\n",
       "    }\n",
       "\n",
       "    .dataframe thead th {\n",
       "        text-align: left;\n",
       "    }\n",
       "\n",
       "    .dataframe tbody tr th {\n",
       "        vertical-align: top;\n",
       "    }\n",
       "</style>\n",
       "<table border=\"1\" class=\"dataframe\">\n",
       "  <thead>\n",
       "    <tr style=\"text-align: right;\">\n",
       "      <th></th>\n",
       "      <th>index</th>\n",
       "      <th>avgrev</th>\n",
       "      <th>cust_id</th>\n",
       "    </tr>\n",
       "  </thead>\n",
       "  <tbody>\n",
       "    <tr>\n",
       "      <th>0</th>\n",
       "      <td>7023</td>\n",
       "      <td>32.50</td>\n",
       "      <td>1032452</td>\n",
       "    </tr>\n",
       "    <tr>\n",
       "      <th>1</th>\n",
       "      <td>8844</td>\n",
       "      <td>25.48</td>\n",
       "      <td>1092425</td>\n",
       "    </tr>\n",
       "    <tr>\n",
       "      <th>2</th>\n",
       "      <td>307</td>\n",
       "      <td>52.28</td>\n",
       "      <td>1092888</td>\n",
       "    </tr>\n",
       "    <tr>\n",
       "      <th>3</th>\n",
       "      <td>8041</td>\n",
       "      <td>39.27</td>\n",
       "      <td>1087181</td>\n",
       "    </tr>\n",
       "    <tr>\n",
       "      <th>4</th>\n",
       "      <td>877</td>\n",
       "      <td>54.60</td>\n",
       "      <td>1012248</td>\n",
       "    </tr>\n",
       "  </tbody>\n",
       "</table>\n",
       "</div>"
      ],
      "text/plain": [
       "   index  avgrev  cust_id\n",
       "0   7023   32.50  1032452\n",
       "1   8844   25.48  1092425\n",
       "2    307   52.28  1092888\n",
       "3   8041   39.27  1087181\n",
       "4    877   54.60  1012248"
      ]
     },
     "execution_count": 50,
     "metadata": {},
     "output_type": "execute_result"
    }
   ],
   "source": [
    "segment_data.head()"
   ]
  },
  {
   "cell_type": "code",
   "execution_count": 51,
   "metadata": {
    "collapsed": true
   },
   "outputs": [],
   "source": [
    "segment_data[\"churn_probability\"] = y_pred\n"
   ]
  },
  {
   "cell_type": "code",
   "execution_count": 52,
   "metadata": {},
   "outputs": [
    {
     "data": {
      "text/html": [
       "<div>\n",
       "<style>\n",
       "    .dataframe thead tr:only-child th {\n",
       "        text-align: right;\n",
       "    }\n",
       "\n",
       "    .dataframe thead th {\n",
       "        text-align: left;\n",
       "    }\n",
       "\n",
       "    .dataframe tbody tr th {\n",
       "        vertical-align: top;\n",
       "    }\n",
       "</style>\n",
       "<table border=\"1\" class=\"dataframe\">\n",
       "  <thead>\n",
       "    <tr style=\"text-align: right;\">\n",
       "      <th></th>\n",
       "      <th>index</th>\n",
       "      <th>avgrev</th>\n",
       "      <th>cust_id</th>\n",
       "      <th>churn_probability</th>\n",
       "    </tr>\n",
       "  </thead>\n",
       "  <tbody>\n",
       "    <tr>\n",
       "      <th>0</th>\n",
       "      <td>7023</td>\n",
       "      <td>32.50</td>\n",
       "      <td>1032452</td>\n",
       "      <td>0.231212</td>\n",
       "    </tr>\n",
       "    <tr>\n",
       "      <th>1</th>\n",
       "      <td>8844</td>\n",
       "      <td>25.48</td>\n",
       "      <td>1092425</td>\n",
       "      <td>0.203574</td>\n",
       "    </tr>\n",
       "    <tr>\n",
       "      <th>2</th>\n",
       "      <td>307</td>\n",
       "      <td>52.28</td>\n",
       "      <td>1092888</td>\n",
       "      <td>0.167385</td>\n",
       "    </tr>\n",
       "    <tr>\n",
       "      <th>3</th>\n",
       "      <td>8041</td>\n",
       "      <td>39.27</td>\n",
       "      <td>1087181</td>\n",
       "      <td>0.130502</td>\n",
       "    </tr>\n",
       "    <tr>\n",
       "      <th>4</th>\n",
       "      <td>877</td>\n",
       "      <td>54.60</td>\n",
       "      <td>1012248</td>\n",
       "      <td>0.299038</td>\n",
       "    </tr>\n",
       "  </tbody>\n",
       "</table>\n",
       "</div>"
      ],
      "text/plain": [
       "   index  avgrev  cust_id  churn_probability\n",
       "0   7023   32.50  1032452           0.231212\n",
       "1   8844   25.48  1092425           0.203574\n",
       "2    307   52.28  1092888           0.167385\n",
       "3   8041   39.27  1087181           0.130502\n",
       "4    877   54.60  1012248           0.299038"
      ]
     },
     "execution_count": 52,
     "metadata": {},
     "output_type": "execute_result"
    }
   ],
   "source": [
    "segment_data.head()"
   ]
  },
  {
   "cell_type": "code",
   "execution_count": 53,
   "metadata": {},
   "outputs": [
    {
     "data": {
      "text/plain": [
       "3315"
      ]
     },
     "execution_count": 53,
     "metadata": {},
     "output_type": "execute_result"
    }
   ],
   "source": [
    "len(y_pred)"
   ]
  },
  {
   "cell_type": "code",
   "execution_count": 54,
   "metadata": {},
   "outputs": [
    {
     "data": {
      "text/plain": [
       "(3315, 64)"
      ]
     },
     "execution_count": 54,
     "metadata": {},
     "output_type": "execute_result"
    }
   ],
   "source": [
    "X_test.shape"
   ]
  },
  {
   "cell_type": "code",
   "execution_count": 55,
   "metadata": {
    "collapsed": true
   },
   "outputs": [],
   "source": [
    "segment_data[\"churn_prediction\"] = y_pred1"
   ]
  },
  {
   "cell_type": "code",
   "execution_count": 56,
   "metadata": {},
   "outputs": [
    {
     "data": {
      "text/html": [
       "<div>\n",
       "<style>\n",
       "    .dataframe thead tr:only-child th {\n",
       "        text-align: right;\n",
       "    }\n",
       "\n",
       "    .dataframe thead th {\n",
       "        text-align: left;\n",
       "    }\n",
       "\n",
       "    .dataframe tbody tr th {\n",
       "        vertical-align: top;\n",
       "    }\n",
       "</style>\n",
       "<table border=\"1\" class=\"dataframe\">\n",
       "  <thead>\n",
       "    <tr style=\"text-align: right;\">\n",
       "      <th></th>\n",
       "      <th>index</th>\n",
       "      <th>avgrev</th>\n",
       "      <th>cust_id</th>\n",
       "      <th>churn_probability</th>\n",
       "      <th>churn_prediction</th>\n",
       "    </tr>\n",
       "  </thead>\n",
       "  <tbody>\n",
       "    <tr>\n",
       "      <th>0</th>\n",
       "      <td>7023</td>\n",
       "      <td>32.50</td>\n",
       "      <td>1032452</td>\n",
       "      <td>0.231212</td>\n",
       "      <td>0</td>\n",
       "    </tr>\n",
       "    <tr>\n",
       "      <th>1</th>\n",
       "      <td>8844</td>\n",
       "      <td>25.48</td>\n",
       "      <td>1092425</td>\n",
       "      <td>0.203574</td>\n",
       "      <td>0</td>\n",
       "    </tr>\n",
       "    <tr>\n",
       "      <th>2</th>\n",
       "      <td>307</td>\n",
       "      <td>52.28</td>\n",
       "      <td>1092888</td>\n",
       "      <td>0.167385</td>\n",
       "      <td>0</td>\n",
       "    </tr>\n",
       "    <tr>\n",
       "      <th>3</th>\n",
       "      <td>8041</td>\n",
       "      <td>39.27</td>\n",
       "      <td>1087181</td>\n",
       "      <td>0.130502</td>\n",
       "      <td>0</td>\n",
       "    </tr>\n",
       "    <tr>\n",
       "      <th>4</th>\n",
       "      <td>877</td>\n",
       "      <td>54.60</td>\n",
       "      <td>1012248</td>\n",
       "      <td>0.299038</td>\n",
       "      <td>1</td>\n",
       "    </tr>\n",
       "  </tbody>\n",
       "</table>\n",
       "</div>"
      ],
      "text/plain": [
       "   index  avgrev  cust_id  churn_probability  churn_prediction\n",
       "0   7023   32.50  1032452           0.231212                 0\n",
       "1   8844   25.48  1092425           0.203574                 0\n",
       "2    307   52.28  1092888           0.167385                 0\n",
       "3   8041   39.27  1087181           0.130502                 0\n",
       "4    877   54.60  1012248           0.299038                 1"
      ]
     },
     "execution_count": 56,
     "metadata": {},
     "output_type": "execute_result"
    }
   ],
   "source": [
    "segment_data.head()"
   ]
  },
  {
   "cell_type": "code",
   "execution_count": 57,
   "metadata": {
    "collapsed": true
   },
   "outputs": [],
   "source": [
    "segment_data['avg_rev_range'] = pd.qcut(segment_data['avgrev'], 3, labels=[\"Low\",\"Medium\",\"High\"])"
   ]
  },
  {
   "cell_type": "code",
   "execution_count": 58,
   "metadata": {
    "collapsed": true
   },
   "outputs": [],
   "source": [
    "segment_data['churn_prob_range'] = pd.qcut(segment_data['churn_probability'], 3, labels=[\"Low\",\"Medium\",\"High\"])"
   ]
  },
  {
   "cell_type": "code",
   "execution_count": 59,
   "metadata": {},
   "outputs": [
    {
     "data": {
      "text/html": [
       "<div>\n",
       "<style>\n",
       "    .dataframe thead tr:only-child th {\n",
       "        text-align: right;\n",
       "    }\n",
       "\n",
       "    .dataframe thead th {\n",
       "        text-align: left;\n",
       "    }\n",
       "\n",
       "    .dataframe tbody tr th {\n",
       "        vertical-align: top;\n",
       "    }\n",
       "</style>\n",
       "<table border=\"1\" class=\"dataframe\">\n",
       "  <thead>\n",
       "    <tr style=\"text-align: right;\">\n",
       "      <th></th>\n",
       "      <th>index</th>\n",
       "      <th>avgrev</th>\n",
       "      <th>cust_id</th>\n",
       "      <th>churn_probability</th>\n",
       "      <th>churn_prediction</th>\n",
       "      <th>avg_rev_range</th>\n",
       "      <th>churn_prob_range</th>\n",
       "    </tr>\n",
       "  </thead>\n",
       "  <tbody>\n",
       "    <tr>\n",
       "      <th>0</th>\n",
       "      <td>7023</td>\n",
       "      <td>32.50</td>\n",
       "      <td>1032452</td>\n",
       "      <td>0.231212</td>\n",
       "      <td>0</td>\n",
       "      <td>Low</td>\n",
       "      <td>Medium</td>\n",
       "    </tr>\n",
       "    <tr>\n",
       "      <th>1</th>\n",
       "      <td>8844</td>\n",
       "      <td>25.48</td>\n",
       "      <td>1092425</td>\n",
       "      <td>0.203574</td>\n",
       "      <td>0</td>\n",
       "      <td>Low</td>\n",
       "      <td>Medium</td>\n",
       "    </tr>\n",
       "    <tr>\n",
       "      <th>2</th>\n",
       "      <td>307</td>\n",
       "      <td>52.28</td>\n",
       "      <td>1092888</td>\n",
       "      <td>0.167385</td>\n",
       "      <td>0</td>\n",
       "      <td>Medium</td>\n",
       "      <td>Low</td>\n",
       "    </tr>\n",
       "    <tr>\n",
       "      <th>3</th>\n",
       "      <td>8041</td>\n",
       "      <td>39.27</td>\n",
       "      <td>1087181</td>\n",
       "      <td>0.130502</td>\n",
       "      <td>0</td>\n",
       "      <td>Medium</td>\n",
       "      <td>Low</td>\n",
       "    </tr>\n",
       "    <tr>\n",
       "      <th>4</th>\n",
       "      <td>877</td>\n",
       "      <td>54.60</td>\n",
       "      <td>1012248</td>\n",
       "      <td>0.299038</td>\n",
       "      <td>1</td>\n",
       "      <td>Medium</td>\n",
       "      <td>High</td>\n",
       "    </tr>\n",
       "  </tbody>\n",
       "</table>\n",
       "</div>"
      ],
      "text/plain": [
       "   index  avgrev  cust_id  churn_probability  churn_prediction avg_rev_range  \\\n",
       "0   7023   32.50  1032452           0.231212                 0           Low   \n",
       "1   8844   25.48  1092425           0.203574                 0           Low   \n",
       "2    307   52.28  1092888           0.167385                 0        Medium   \n",
       "3   8041   39.27  1087181           0.130502                 0        Medium   \n",
       "4    877   54.60  1012248           0.299038                 1        Medium   \n",
       "\n",
       "  churn_prob_range  \n",
       "0           Medium  \n",
       "1           Medium  \n",
       "2              Low  \n",
       "3              Low  \n",
       "4             High  "
      ]
     },
     "execution_count": 59,
     "metadata": {},
     "output_type": "execute_result"
    }
   ],
   "source": [
    "segment_data.head()"
   ]
  },
  {
   "cell_type": "code",
   "execution_count": 60,
   "metadata": {},
   "outputs": [
    {
     "data": {
      "text/plain": [
       "(3315, 7)"
      ]
     },
     "execution_count": 60,
     "metadata": {},
     "output_type": "execute_result"
    }
   ],
   "source": [
    "segment_data.shape"
   ]
  },
  {
   "cell_type": "code",
   "execution_count": 61,
   "metadata": {},
   "outputs": [
    {
     "data": {
      "text/plain": [
       "0    1978\n",
       "1    1337\n",
       "Name: churn_prediction, dtype: int64"
      ]
     },
     "execution_count": 61,
     "metadata": {},
     "output_type": "execute_result"
    }
   ],
   "source": [
    "segment_data.churn_prediction.value_counts()"
   ]
  },
  {
   "cell_type": "code",
   "execution_count": 62,
   "metadata": {},
   "outputs": [
    {
     "data": {
      "text/plain": [
       "[347, 371, 387]"
      ]
     },
     "execution_count": 62,
     "metadata": {},
     "output_type": "execute_result"
    }
   ],
   "source": [
    "row1 = [segment_data[(segment_data['avg_rev_range']==\"Low\") & (segment_data['churn_prob_range']==\"Low\")].shape[0],\n",
    "       segment_data[(segment_data['avg_rev_range']==\"Medium\") & (segment_data['churn_prob_range']==\"Low\")].shape[0],\n",
    "       segment_data[(segment_data['avg_rev_range']==\"High\") & (segment_data['churn_prob_range']==\"Low\")].shape[0]]\n",
    "row1"
   ]
  },
  {
   "cell_type": "code",
   "execution_count": 63,
   "metadata": {},
   "outputs": [
    {
     "data": {
      "text/plain": [
       "[401, 335, 369]"
      ]
     },
     "execution_count": 63,
     "metadata": {},
     "output_type": "execute_result"
    }
   ],
   "source": [
    "row2 = [segment_data[(segment_data['avg_rev_range']==\"Low\") & (segment_data['churn_prob_range']==\"Medium\")].shape[0],\n",
    "       segment_data[(segment_data['avg_rev_range']==\"Medium\") & (segment_data['churn_prob_range']==\"Medium\")].shape[0],\n",
    "       segment_data[(segment_data['avg_rev_range']==\"High\") & (segment_data['churn_prob_range']==\"Medium\")].shape[0]]\n",
    "row2"
   ]
  },
  {
   "cell_type": "code",
   "execution_count": 64,
   "metadata": {},
   "outputs": [
    {
     "data": {
      "text/plain": [
       "[357, 399, 349]"
      ]
     },
     "execution_count": 64,
     "metadata": {},
     "output_type": "execute_result"
    }
   ],
   "source": [
    "row3 = [segment_data[(segment_data['avg_rev_range']==\"Low\") & (segment_data['churn_prob_range']==\"High\")].shape[0],\n",
    "       segment_data[(segment_data['avg_rev_range']==\"Medium\") & (segment_data['churn_prob_range']==\"High\")].shape[0],\n",
    "       segment_data[(segment_data['avg_rev_range']==\"High\") & (segment_data['churn_prob_range']==\"High\")].shape[0]]\n",
    "row3"
   ]
  },
  {
   "cell_type": "code",
   "execution_count": 65,
   "metadata": {},
   "outputs": [
    {
     "name": "stdout",
     "output_type": "stream",
     "text": [
      "churn probability/Revenue: \n"
     ]
    },
    {
     "data": {
      "text/html": [
       "<div>\n",
       "<style>\n",
       "    .dataframe thead tr:only-child th {\n",
       "        text-align: right;\n",
       "    }\n",
       "\n",
       "    .dataframe thead th {\n",
       "        text-align: left;\n",
       "    }\n",
       "\n",
       "    .dataframe tbody tr th {\n",
       "        vertical-align: top;\n",
       "    }\n",
       "</style>\n",
       "<table border=\"1\" class=\"dataframe\">\n",
       "  <thead>\n",
       "    <tr style=\"text-align: right;\">\n",
       "      <th></th>\n",
       "      <th>Low</th>\n",
       "      <th>Medium</th>\n",
       "      <th>High</th>\n",
       "    </tr>\n",
       "  </thead>\n",
       "  <tbody>\n",
       "    <tr>\n",
       "      <th>Low</th>\n",
       "      <td>347</td>\n",
       "      <td>371</td>\n",
       "      <td>387</td>\n",
       "    </tr>\n",
       "    <tr>\n",
       "      <th>Medium</th>\n",
       "      <td>401</td>\n",
       "      <td>335</td>\n",
       "      <td>369</td>\n",
       "    </tr>\n",
       "    <tr>\n",
       "      <th>High</th>\n",
       "      <td>357</td>\n",
       "      <td>399</td>\n",
       "      <td>349</td>\n",
       "    </tr>\n",
       "  </tbody>\n",
       "</table>\n",
       "</div>"
      ],
      "text/plain": [
       "        Low  Medium  High\n",
       "Low     347     371   387\n",
       "Medium  401     335   369\n",
       "High    357     399   349"
      ]
     },
     "execution_count": 65,
     "metadata": {},
     "output_type": "execute_result"
    }
   ],
   "source": [
    "grid = pd.DataFrame([row1,row2,row3])\n",
    "grid.columns = [\"Low\",\"Medium\",\"High\"]\n",
    "grid.index = [\"Low\",\"Medium\",\"High\"]\n",
    "print(\"churn probability/Revenue: \")\n",
    "grid"
   ]
  },
  {
   "cell_type": "code",
   "execution_count": 66,
   "metadata": {
    "scrolled": true
   },
   "outputs": [
    {
     "name": "stdout",
     "output_type": "stream",
     "text": [
      "Number of Customers to be targeted is 1117\n",
      "List of ID of Customers to be targeted:\n",
      "            0\n",
      "0     1000365\n",
      "1     1084496\n",
      "2     1017180\n",
      "3     1000622\n",
      "4     1073635\n",
      "5     1030839\n",
      "6     1009411\n",
      "7     1000465\n",
      "8     1043395\n",
      "9     1036838\n",
      "10    1003300\n",
      "11    1046407\n",
      "12    1074232\n",
      "13    1001025\n",
      "14    1073629\n",
      "15    1057931\n",
      "16    1053255\n",
      "17    1043785\n",
      "18    1037987\n",
      "19    1036510\n",
      "20    1018515\n",
      "21    1018723\n",
      "22    1002438\n",
      "23    1042998\n",
      "24    1091049\n",
      "25    1082453\n",
      "26    1024038\n",
      "27    1060477\n",
      "28    1020057\n",
      "29    1088250\n",
      "...       ...\n",
      "1087  1046130\n",
      "1088  1064972\n",
      "1089  1053273\n",
      "1090  1078893\n",
      "1091  1090683\n",
      "1092  1040898\n",
      "1093  1027017\n",
      "1094  1053783\n",
      "1095  1098230\n",
      "1096  1011031\n",
      "1097  1029601\n",
      "1098  1026619\n",
      "1099  1095793\n",
      "1100  1067784\n",
      "1101  1033930\n",
      "1102  1048257\n",
      "1103  1016745\n",
      "1104  1062335\n",
      "1105  1067074\n",
      "1106  1077438\n",
      "1107  1034688\n",
      "1108  1085881\n",
      "1109  1054561\n",
      "1110  1059843\n",
      "1111  1094572\n",
      "1112  1059971\n",
      "1113  1085752\n",
      "1114  1023910\n",
      "1115  1089230\n",
      "1116  1054489\n",
      "\n",
      "[1117 rows x 1 columns]\n"
     ]
    }
   ],
   "source": [
    "\n",
    "target_customers_list = [segment_data[(segment_data['avg_rev_range']==\"High\") & (segment_data['churn_prob_range']==\"Medium\")].cust_id.tolist()+\n",
    "segment_data[(segment_data['avg_rev_range']==\"Medium\") & (segment_data['churn_prob_range']==\"High\")].cust_id.tolist()+\n",
    "       segment_data[(segment_data['avg_rev_range']==\"High\") & (segment_data['churn_prob_range']==\"High\")].cust_id.tolist()]\n",
    "print(\"Number of Customers to be targeted is \" + str(len(target_customers_list[0])))\n",
    "print(\"List of ID of Customers to be targeted:\")\n",
    "print(np.transpose(pd.DataFrame(target_customers_list)))"
   ]
  }
 ],
 "metadata": {
  "kernelspec": {
   "display_name": "Python 3",
   "language": "python",
   "name": "python3"
  },
  "language_info": {
   "codemirror_mode": {
    "name": "ipython",
    "version": 3
   },
   "file_extension": ".py",
   "mimetype": "text/x-python",
   "name": "python",
   "nbconvert_exporter": "python",
   "pygments_lexer": "ipython3",
   "version": "3.6.3"
  }
 },
 "nbformat": 4,
 "nbformat_minor": 2
}
