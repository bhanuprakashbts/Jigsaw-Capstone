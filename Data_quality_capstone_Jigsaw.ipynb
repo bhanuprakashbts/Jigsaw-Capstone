{
 "cells": [
  {
   "cell_type": "code",
   "execution_count": 35,
   "metadata": {},
   "outputs": [
    {
     "name": "stdout",
     "output_type": "stream",
     "text": [
      "Current working directory is: E:\\mypractice\\Python\\Jigsaw\\capstone\n"
     ]
    }
   ],
   "source": [
    "# import os module \n",
    "import os \n",
    "  \n",
    "# change the current working directory  \n",
    "# to specified path \n",
    "os.chdir('E:\\\\mypractice\\\\Python\\\\Jigsaw\\\\capstone') \n",
    "  \n",
    "# varify the path using getcwd() \n",
    "cwd = os.getcwd() \n",
    "  \n",
    "# print the current directory \n",
    "print(\"Current working directory is:\", cwd) "
   ]
  },
  {
   "cell_type": "code",
   "execution_count": 36,
   "metadata": {
    "collapsed": true
   },
   "outputs": [],
   "source": [
    "import numpy as np\n",
    "import pandas as pd"
   ]
  },
  {
   "cell_type": "code",
   "execution_count": 37,
   "metadata": {
    "collapsed": true
   },
   "outputs": [],
   "source": [
    "data = pd.read_csv(\"sampletelecomfinal (1).csv\",header = 0)"
   ]
  },
  {
   "cell_type": "code",
   "execution_count": 38,
   "metadata": {},
   "outputs": [
    {
     "data": {
      "text/plain": [
       "(13259, 79)"
      ]
     },
     "execution_count": 38,
     "metadata": {},
     "output_type": "execute_result"
    }
   ],
   "source": [
    "data.shape"
   ]
  },
  {
   "cell_type": "code",
   "execution_count": 39,
   "metadata": {
    "collapsed": true
   },
   "outputs": [],
   "source": [
    "data_quality = pd.DataFrame(data.dtypes)\n",
    "data_quality[\"variable\"] = data_quality.index"
   ]
  },
  {
   "cell_type": "code",
   "execution_count": 40,
   "metadata": {},
   "outputs": [
    {
     "data": {
      "text/html": [
       "<div>\n",
       "<style>\n",
       "    .dataframe thead tr:only-child th {\n",
       "        text-align: right;\n",
       "    }\n",
       "\n",
       "    .dataframe thead th {\n",
       "        text-align: left;\n",
       "    }\n",
       "\n",
       "    .dataframe tbody tr th {\n",
       "        vertical-align: top;\n",
       "    }\n",
       "</style>\n",
       "<table border=\"1\" class=\"dataframe\">\n",
       "  <thead>\n",
       "    <tr style=\"text-align: right;\">\n",
       "      <th></th>\n",
       "      <th>0</th>\n",
       "      <th>variable</th>\n",
       "    </tr>\n",
       "  </thead>\n",
       "  <tbody>\n",
       "    <tr>\n",
       "      <th>mou_Mean</th>\n",
       "      <td>float64</td>\n",
       "      <td>mou_Mean</td>\n",
       "    </tr>\n",
       "    <tr>\n",
       "      <th>totmrc_Mean</th>\n",
       "      <td>float64</td>\n",
       "      <td>totmrc_Mean</td>\n",
       "    </tr>\n",
       "    <tr>\n",
       "      <th>rev_Range</th>\n",
       "      <td>float64</td>\n",
       "      <td>rev_Range</td>\n",
       "    </tr>\n",
       "    <tr>\n",
       "      <th>mou_Range</th>\n",
       "      <td>float64</td>\n",
       "      <td>mou_Range</td>\n",
       "    </tr>\n",
       "    <tr>\n",
       "      <th>change_mou</th>\n",
       "      <td>float64</td>\n",
       "      <td>change_mou</td>\n",
       "    </tr>\n",
       "  </tbody>\n",
       "</table>\n",
       "</div>"
      ],
      "text/plain": [
       "                   0     variable\n",
       "mou_Mean     float64     mou_Mean\n",
       "totmrc_Mean  float64  totmrc_Mean\n",
       "rev_Range    float64    rev_Range\n",
       "mou_Range    float64    mou_Range\n",
       "change_mou   float64   change_mou"
      ]
     },
     "execution_count": 40,
     "metadata": {},
     "output_type": "execute_result"
    }
   ],
   "source": [
    "data_quality.head()"
   ]
  },
  {
   "cell_type": "code",
   "execution_count": 41,
   "metadata": {},
   "outputs": [
    {
     "data": {
      "text/plain": [
       "26"
      ]
     },
     "execution_count": 41,
     "metadata": {},
     "output_type": "execute_result"
    }
   ],
   "source": [
    "data[data_quality['variable'][0]].isnull().sum()"
   ]
  },
  {
   "cell_type": "code",
   "execution_count": 42,
   "metadata": {
    "collapsed": true
   },
   "outputs": [],
   "source": [
    "missing = pd.DataFrame(data.isnull().sum())\n",
    "data_quality['missing'] = missing[0]\n",
    "\n",
    "data_quality['number of records'] = len(data)\n",
    "data_quality['missing pct'] = data_quality['missing']/data_quality['number of records']\n"
   ]
  },
  {
   "cell_type": "code",
   "execution_count": 43,
   "metadata": {},
   "outputs": [
    {
     "data": {
      "text/plain": [
       "'totmrc_Mean'"
      ]
     },
     "execution_count": 43,
     "metadata": {},
     "output_type": "execute_result"
    }
   ],
   "source": [
    "data_quality['variable'][1]"
   ]
  },
  {
   "cell_type": "code",
   "execution_count": 44,
   "metadata": {},
   "outputs": [
    {
     "data": {
      "text/plain": [
       "2122"
      ]
     },
     "execution_count": 44,
     "metadata": {},
     "output_type": "execute_result"
    }
   ],
   "source": [
    "len(data[data_quality['variable'][1]].unique())"
   ]
  },
  {
   "cell_type": "code",
   "execution_count": 45,
   "metadata": {
    "collapsed": true
   },
   "outputs": [],
   "source": [
    "data_quality['unique records']=0"
   ]
  },
  {
   "cell_type": "code",
   "execution_count": 46,
   "metadata": {},
   "outputs": [
    {
     "name": "stderr",
     "output_type": "stream",
     "text": [
      "E:\\Anaconda\\lib\\site-packages\\ipykernel_launcher.py:4: SettingWithCopyWarning: \n",
      "A value is trying to be set on a copy of a slice from a DataFrame\n",
      "\n",
      "See the caveats in the documentation: http://pandas.pydata.org/pandas-docs/stable/indexing.html#indexing-view-versus-copy\n",
      "  after removing the cwd from sys.path.\n"
     ]
    }
   ],
   "source": [
    "data_quality['unique records']=0\n",
    "\n",
    "for i in range(len(data_quality['unique records'])):\n",
    "    data_quality['unique records'][i] = len(data[data_quality['variable'][i]].unique())\n"
   ]
  },
  {
   "cell_type": "code",
   "execution_count": 48,
   "metadata": {},
   "outputs": [
    {
     "data": {
      "text/html": [
       "<div>\n",
       "<style>\n",
       "    .dataframe thead tr:only-child th {\n",
       "        text-align: right;\n",
       "    }\n",
       "\n",
       "    .dataframe thead th {\n",
       "        text-align: left;\n",
       "    }\n",
       "\n",
       "    .dataframe tbody tr th {\n",
       "        vertical-align: top;\n",
       "    }\n",
       "</style>\n",
       "<table border=\"1\" class=\"dataframe\">\n",
       "  <thead>\n",
       "    <tr style=\"text-align: right;\">\n",
       "      <th></th>\n",
       "      <th>0</th>\n",
       "      <th>variable</th>\n",
       "      <th>missing</th>\n",
       "      <th>number of records</th>\n",
       "      <th>missing pct</th>\n",
       "      <th>unique records</th>\n",
       "    </tr>\n",
       "  </thead>\n",
       "  <tbody>\n",
       "    <tr>\n",
       "      <th>mou_Mean</th>\n",
       "      <td>float64</td>\n",
       "      <td>mou_Mean</td>\n",
       "      <td>26</td>\n",
       "      <td>13259</td>\n",
       "      <td>0.001961</td>\n",
       "      <td>5107</td>\n",
       "    </tr>\n",
       "    <tr>\n",
       "      <th>totmrc_Mean</th>\n",
       "      <td>float64</td>\n",
       "      <td>totmrc_Mean</td>\n",
       "      <td>26</td>\n",
       "      <td>13259</td>\n",
       "      <td>0.001961</td>\n",
       "      <td>2122</td>\n",
       "    </tr>\n",
       "    <tr>\n",
       "      <th>rev_Range</th>\n",
       "      <td>float64</td>\n",
       "      <td>rev_Range</td>\n",
       "      <td>26</td>\n",
       "      <td>13259</td>\n",
       "      <td>0.001961</td>\n",
       "      <td>6128</td>\n",
       "    </tr>\n",
       "    <tr>\n",
       "      <th>mou_Range</th>\n",
       "      <td>float64</td>\n",
       "      <td>mou_Range</td>\n",
       "      <td>26</td>\n",
       "      <td>13259</td>\n",
       "      <td>0.001961</td>\n",
       "      <td>1639</td>\n",
       "    </tr>\n",
       "    <tr>\n",
       "      <th>change_mou</th>\n",
       "      <td>float64</td>\n",
       "      <td>change_mou</td>\n",
       "      <td>71</td>\n",
       "      <td>13259</td>\n",
       "      <td>0.005355</td>\n",
       "      <td>3639</td>\n",
       "    </tr>\n",
       "  </tbody>\n",
       "</table>\n",
       "</div>"
      ],
      "text/plain": [
       "                   0     variable  missing  number of records  missing pct  \\\n",
       "mou_Mean     float64     mou_Mean       26              13259     0.001961   \n",
       "totmrc_Mean  float64  totmrc_Mean       26              13259     0.001961   \n",
       "rev_Range    float64    rev_Range       26              13259     0.001961   \n",
       "mou_Range    float64    mou_Range       26              13259     0.001961   \n",
       "change_mou   float64   change_mou       71              13259     0.005355   \n",
       "\n",
       "             unique records  \n",
       "mou_Mean               5107  \n",
       "totmrc_Mean            2122  \n",
       "rev_Range              6128  \n",
       "mou_Range              1639  \n",
       "change_mou             3639  "
      ]
     },
     "execution_count": 48,
     "metadata": {},
     "output_type": "execute_result"
    }
   ],
   "source": [
    "data_quality.head()"
   ]
  },
  {
   "cell_type": "code",
   "execution_count": 49,
   "metadata": {
    "scrolled": true
   },
   "outputs": [
    {
     "name": "stdout",
     "output_type": "stream",
     "text": [
      "Data Quality Report:\n",
      "                  missing  number of records  missing pct  unique records\n",
      "mou_Mean               26              13259     0.001961            5107\n",
      "totmrc_Mean            26              13259     0.001961            2122\n",
      "rev_Range              26              13259     0.001961            6128\n",
      "mou_Range              26              13259     0.001961            1639\n",
      "change_mou             71              13259     0.005355            3639\n",
      "drop_blk_Mean           0              13259     0.000000             307\n",
      "drop_vce_Range          0              13259     0.000000              91\n",
      "owylis_vce_Range        0              13259     0.000000             191\n",
      "mou_opkv_Range          0              13259     0.000000            9256\n",
      "months                  0              13259     0.000000              55\n",
      "totcalls                0              13259     0.000000            5816\n",
      "income               3254              13259     0.245418              10\n",
      "eqpdays                 0              13259     0.000000            1207\n",
      "custcare_Mean           0              13259     0.000000             137\n",
      "callwait_Mean           0              13259     0.000000             143\n",
      "iwylis_vce_Mean         0              13259     0.000000             311\n",
      "callwait_Range          0              13259     0.000000              64\n",
      "ccrndmou_Range          0              13259     0.000000             156\n",
      "adjqty                  0              13259     0.000000            5761\n",
      "ovrrev_Mean            26              13259     0.001961            3330\n",
      "rev_Mean               26              13259     0.001961            9363\n",
      "ovrmou_Mean            26              13259     0.001961            1233\n",
      "comp_vce_Mean           0              13259     0.000000            1455\n",
      "plcd_vce_Mean           0              13259     0.000000            1784\n",
      "avg3mou                 0              13259     0.000000            2019\n",
      "avgmou                  0              13259     0.000000           11911\n",
      "avg3qty                 0              13259     0.000000             912\n",
      "avgqty                  0              13259     0.000000           10190\n",
      "avg6mou               402              13259     0.030319            1952\n",
      "avg6qty               402              13259     0.030319             895\n",
      "...                   ...                ...          ...             ...\n",
      "opk_dat_Mean            0              13259     0.000000             107\n",
      "mtrcycle              214              13259     0.016140               3\n",
      "numbcars             6492              13259     0.489630               4\n",
      "retdays             12825              13259     0.967268             285\n",
      "truck                 214              13259     0.016140               3\n",
      "wrkwoman            11590              13259     0.874123               2\n",
      "roam_Mean              26              13259     0.001961            1431\n",
      "recv_sms_Mean           0              13259     0.000000              30\n",
      "blck_dat_Mean           0              13259     0.000000              22\n",
      "mou_pead_Mean           0              13259     0.000000             752\n",
      "churn                   0              13259     0.000000               2\n",
      "solflag             12999              13259     0.980391               3\n",
      "proptype             9432              13259     0.711366               7\n",
      "mailresp             8235              13259     0.621088               2\n",
      "cartype              9010              13259     0.679538               8\n",
      "car_buy               214              13259     0.016140               3\n",
      "children             8704              13259     0.656460               3\n",
      "csa                     4              13259     0.000302             615\n",
      "da_Mean                26              13259     0.001961             105\n",
      "da_Range               26              13259     0.001961              40\n",
      "datovr_Mean            26              13259     0.001961             224\n",
      "datovr_Range           26              13259     0.001961             184\n",
      "div_type            10782              13259     0.813183               4\n",
      "drop_dat_Mean           0              13259     0.000000              28\n",
      "drop_vce_Mean           0              13259     0.000000             205\n",
      "adjmou                  0              13259     0.000000            9035\n",
      "totrev                  0              13259     0.000000           12696\n",
      "adjrev                  0              13259     0.000000           12651\n",
      "avgrev                  0              13259     0.000000            6924\n",
      "Customer_ID             0              13259     0.000000           13259\n",
      "\n",
      "[79 rows x 4 columns]\n"
     ]
    }
   ],
   "source": [
    "print(\"Data Quality Report:\")\n",
    "print(data_quality.drop([0,\"variable\"],axis=1))"
   ]
  }
 ],
 "metadata": {
  "kernelspec": {
   "display_name": "Python 3",
   "language": "python",
   "name": "python3"
  },
  "language_info": {
   "codemirror_mode": {
    "name": "ipython",
    "version": 3
   },
   "file_extension": ".py",
   "mimetype": "text/x-python",
   "name": "python",
   "nbconvert_exporter": "python",
   "pygments_lexer": "ipython3",
   "version": "3.6.3"
  }
 },
 "nbformat": 4,
 "nbformat_minor": 2
}
